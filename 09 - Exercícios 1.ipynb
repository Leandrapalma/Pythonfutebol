{
 "cells": [
  {
   "cell_type": "markdown",
   "metadata": {},
   "source": [
    "# Exercícios"
   ]
  },
  {
   "cell_type": "markdown",
   "metadata": {
    "hide_input": false,
    "solution2": "hidden",
    "solution2_first": true
   },
   "source": [
    "Exercício 1:\n",
    "\n",
    "Acesse o site https://www.flashscore.com.br/ e pegue qualquer jogo.\n",
    "Jogue para a variável o nome do mandante, o nome do visitante.\n",
    "\n",
    "Também pegue as odds do time mandante, time vistante e empate.\n"
   ]
  },
  {
   "cell_type": "code",
   "execution_count": 1,
   "metadata": {
    "hide_input": false,
    "scrolled": true,
    "solution2": "hidden"
   },
   "outputs": [],
   "source": [
    "mandante = 'America Mineiro'\n",
    "visitante = 'Palmeiras'\n",
    "\n",
    "odd_casa = 3.01\n",
    "odd_empate = 3.20\n",
    "odd_visitante = 2.37"
   ]
  },
  {
   "cell_type": "markdown",
   "metadata": {
    "solution2": "hidden",
    "solution2_first": true
   },
   "source": [
    "Exercício 2:\n",
    "\n",
    "Usando a função print, exiba os valores das variáveis criadas no Exercício 1 em tela.\n",
    "    "
   ]
  },
  {
   "cell_type": "code",
   "execution_count": 2,
   "metadata": {
    "solution2": "hidden"
   },
   "outputs": [
    {
     "name": "stdout",
     "output_type": "stream",
     "text": [
      "O nome do mandante é: America Mineiro\n",
      "A odd do mandante é: 3.01\n",
      "O nome do visitante é: Palmeiras\n",
      "A odd do visitante é: 2.37\n",
      "A odd do empate é: 3.2\n"
     ]
    }
   ],
   "source": [
    "print('O nome do mandante é:', mandante)\n",
    "print('A odd do mandante é:', odd_casa)\n",
    "\n",
    "print('O nome do visitante é:', visitante)\n",
    "print('A odd do visitante é:', odd_visitante)\n",
    "\n",
    "print('A odd do empate é:', odd_empate)"
   ]
  },
  {
   "cell_type": "markdown",
   "metadata": {
    "solution2": "hidden",
    "solution2_first": true
   },
   "source": [
    "Exercício 3:\n",
    "    \n",
    "Faça o arredondamento das odds usando apenas uma casa decimal. Print o resultado. "
   ]
  },
  {
   "cell_type": "code",
   "execution_count": 3,
   "metadata": {
    "solution2": "hidden"
   },
   "outputs": [
    {
     "name": "stdout",
     "output_type": "stream",
     "text": [
      "A odd do mandante arredondada: 3.0\n",
      "A odd do visitante arredondada: 2.4\n",
      "A odd do empate arredondada: 3.2\n"
     ]
    }
   ],
   "source": [
    "print('A odd do mandante arredondada:', round(odd_casa,1))\n",
    "print('A odd do visitante arredondada:', round(odd_visitante,1))\n",
    "print('A odd do empate arredondada:', round(odd_empate,1))"
   ]
  },
  {
   "cell_type": "markdown",
   "metadata": {
    "solution2": "hidden",
    "solution2_first": true
   },
   "source": [
    "Exercício 4:\n",
    "    \n",
    "Calcule a probabilidade de vitória do time mandante, do empate e da vitória do time visitante. Arredonde o valor da probabilidade usando apenas duas casas decimais.\n",
    "Print o resultado."
   ]
  },
  {
   "cell_type": "code",
   "execution_count": 4,
   "metadata": {
    "solution2": "hidden"
   },
   "outputs": [
    {
     "name": "stdout",
     "output_type": "stream",
     "text": [
      "A probabilidade de vitória do time mandante é: 33.22 %\n",
      "A probabilidade de empate é: 31.25 %\n",
      "A probabilidade de vitória do time visitante é: 42.19 %\n"
     ]
    }
   ],
   "source": [
    "prob_casa = 100 / odd_casa\n",
    "prob_visitante = 100 / odd_visitante\n",
    "prob_empate = 100 / odd_empate\n",
    "\n",
    "print('A probabilidade de vitória do time mandante é:', round(prob_casa,2),'%')\n",
    "print('A probabilidade de empate é:', round(prob_empate,2),'%')\n",
    "print('A probabilidade de vitória do time visitante é:', round(prob_visitante,2),'%')"
   ]
  },
  {
   "cell_type": "markdown",
   "metadata": {
    "solution2": "hidden",
    "solution2_first": true
   },
   "source": [
    "Exercício 5:\n",
    "    \n",
    "Armazene a palavra Esporte em uma variável e faça slicing. \n",
    "Pegue a partir da terceira posição até o final da palavra. \n"
   ]
  },
  {
   "cell_type": "code",
   "execution_count": 6,
   "metadata": {
    "solution2": "hidden"
   },
   "outputs": [
    {
     "data": {
      "text/plain": [
       "'or'"
      ]
     },
     "execution_count": 6,
     "metadata": {},
     "output_type": "execute_result"
    }
   ],
   "source": [
    "palavra = 'Esporte'\n",
    "\n",
    "palavra[3:5]"
   ]
  },
  {
   "cell_type": "code",
   "execution_count": null,
   "metadata": {},
   "outputs": [],
   "source": []
  }
 ],
 "metadata": {
  "hide_input": false,
  "kernelspec": {
   "display_name": "Python 3",
   "language": "python",
   "name": "python3"
  },
  "language_info": {
   "codemirror_mode": {
    "name": "ipython",
    "version": 3
   },
   "file_extension": ".py",
   "mimetype": "text/x-python",
   "name": "python",
   "nbconvert_exporter": "python",
   "pygments_lexer": "ipython3",
   "version": "3.8.3"
  },
  "toc": {
   "base_numbering": 1,
   "nav_menu": {},
   "number_sections": true,
   "sideBar": true,
   "skip_h1_title": false,
   "title_cell": "Table of Contents",
   "title_sidebar": "Contents",
   "toc_cell": false,
   "toc_position": {},
   "toc_section_display": true,
   "toc_window_display": false
  },
  "varInspector": {
   "cols": {
    "lenName": 16,
    "lenType": 16,
    "lenVar": 40
   },
   "kernels_config": {
    "python": {
     "delete_cmd_postfix": "",
     "delete_cmd_prefix": "del ",
     "library": "var_list.py",
     "varRefreshCmd": "print(var_dic_list())"
    },
    "r": {
     "delete_cmd_postfix": ") ",
     "delete_cmd_prefix": "rm(",
     "library": "var_list.r",
     "varRefreshCmd": "cat(var_dic_list()) "
    }
   },
   "position": {
    "height": "144.844px",
    "left": "1550px",
    "right": "20px",
    "top": "119px",
    "width": "350px"
   },
   "types_to_exclude": [
    "module",
    "function",
    "builtin_function_or_method",
    "instance",
    "_Feature"
   ],
   "window_display": false
  }
 },
 "nbformat": 4,
 "nbformat_minor": 4
}
