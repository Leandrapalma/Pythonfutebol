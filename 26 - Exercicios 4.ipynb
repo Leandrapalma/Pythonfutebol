{
 "cells": [
  {
   "cell_type": "markdown",
   "metadata": {},
   "source": [
    "# Exercícios"
   ]
  },
  {
   "cell_type": "markdown",
   "metadata": {
    "solution2": "hidden",
    "solution2_first": true
   },
   "source": [
    "1 - Faça um programa que a partir de duas listas crie um dicionário. As chaves dos dicionários serão os nomes dos times e os valores serão as odds correspondentes.\n",
    "\n",
    "list_times = ['Palmeiras', 'Corinthias', 'Santos', 'São Paulo']\n",
    "\n",
    "list_odds = [1.50, 1.80, 1.60, 1.90]"
   ]
  },
  {
   "cell_type": "code",
   "execution_count": 2,
   "metadata": {
    "solution2": "hidden"
   },
   "outputs": [
    {
     "name": "stdout",
     "output_type": "stream",
     "text": [
      "{'Palmeiras': 1.5, 'Corinthians': 1.8, 'Santos': 1.6, 'São Paulo': 1.9}\n",
      "=#=#=#=#=#=#=#=#=#=#=#=#=#=#=#=#=#=#=#=#=#=#=#=#=#=#=#=#=#=#\n",
      " - Palmeiras tem odd de 1.5\n",
      " - Corinthians tem odd de 1.8\n",
      " - Santos tem odd de 1.6\n",
      " - São Paulo tem odd de 1.9\n"
     ]
    }
   ],
   "source": [
    "list_times = ['Palmeiras', 'Corinthians', 'Santos', 'São Paulo']\n",
    "list_odds = [1.50, 1.80, 1.60, 1.90]\n",
    "\n",
    "# criar um dicionário vazio\n",
    "times_dict = {}\n",
    "\n",
    "for i in range(len(list_times)):\n",
    "    for i in range(len(list_odds)):\n",
    "        times_dict[list_times[i]] = list_odds[i]\n",
    "print(times_dict)\n",
    "\n",
    "print('=#' * 30)\n",
    "for k, v in times_dict.items():\n",
    "    print(f' - {k} tem odd de {v}')"
   ]
  },
  {
   "cell_type": "markdown",
   "metadata": {
    "solution2": "hidden",
    "solution2_first": true
   },
   "source": [
    "2 - Um apostador colocou os valores de suas apostas em vários dicionários. Para cada mês ele criou um dicionário distinto.\n",
    "As chaves dos dicionarios são os meses das apostas e os valores são os valores apostados, as odds e o resultado da aposta.\n",
    "Faça um programa que junte todos os dicionários em um único.\n",
    "\n",
    "jan = {\n",
    "10: [120.00, 1.50, 'Ganhou']\n",
    "15: [88.00, 2.00, 'Ganhou']\n",
    "18: [55.70, 1.90, 'Perdeu']\n",
    "23: [175.00, 1.70, 'Ganhou']\n",
    "    }\n",
    "\n",
    "fev = {\n",
    "5: [20.00, 1.44, 'Perdeu']\n",
    "8: [75.80, 2.30, 'Ganhou']\n",
    "15: [55.70, 1.90, 'Perdeu']\n",
    "25: [135.00, 1.70, 'Perdeu']\n",
    "    }\n",
    "\n",
    "mar = {\n",
    "11: [77.00, 1.20, 'Ganhou']\n",
    "16: [100.00, 2.00, 'Ganhou']\n",
    "26: [65.50, 1.90, 'Ganhou']\n",
    "30: [115.00, 1.70, 'Ganhou']\n",
    "    }\n",
    "\n",
    "abr = {\n",
    "9: [97.00, 1.90, 'Ganhou']\n",
    "13: [110.00, 2.00, 'Perdeu']\n",
    "19: [70.70, 1.90, 'Ganhou']\n",
    "21: [160.00, 1.80, 'Perdeu']\n",
    "    }\n",
    "\n",
    "mai = {\n",
    "12: [100.00, 2.10, 'Ganhou']\n",
    "17: [50.00, 1.35, 'Ganhou']\n",
    "25: [90.70, 1.75, 'Perdeu']\n",
    "27: [25.00, 1.80, 'Perdeu']\n",
    "    }\n",
    "\n",
    "jun = {\n",
    "2: [120.00, 1.50, 'Perdeu']\n",
    "13: [90.00, 1.90, 'Ganhou']\n",
    "15: [80.00, 1.80, 'Perdeu']\n",
    "17: [100.00, 1.70, 'Ganhou']\n",
    "    }\n",
    "\n"
   ]
  },
  {
   "cell_type": "code",
   "execution_count": 3,
   "metadata": {
    "solution2": "hidden"
   },
   "outputs": [
    {
     "data": {
      "text/plain": [
       "{10: [120.0, 1.5, 'Ganhou'],\n",
       " 15: [80.0, 1.8, 'Perdeu'],\n",
       " 18: [55.7, 1.9, 'Perdeu'],\n",
       " 23: [175.0, 1.7, 'Ganhou'],\n",
       " 5: [20.0, 1.44, 'Perdeu'],\n",
       " 8: [75.8, 2.3, 'Ganhou'],\n",
       " 25: [90.7, 1.75, 'Perdeu'],\n",
       " 11: [77.0, 1.2, 'Ganhou'],\n",
       " 16: [100.0, 2.0, 'Ganhou'],\n",
       " 26: [65.5, 1.9, 'Ganhou'],\n",
       " 30: [115.0, 1.7, 'Ganhou'],\n",
       " 9: [97.0, 1.9, 'Ganhou'],\n",
       " 13: [90.0, 1.9, 'Ganhou'],\n",
       " 19: [70.7, 1.9, 'Ganhou'],\n",
       " 21: [160.0, 1.8, 'Perdeu'],\n",
       " 12: [100.0, 2.1, 'Ganhou'],\n",
       " 17: [100.0, 1.7, 'Ganhou'],\n",
       " 27: [25.0, 1.8, 'Perdeu'],\n",
       " 2: [120.0, 1.5, 'Perdeu']}"
      ]
     },
     "execution_count": 3,
     "metadata": {},
     "output_type": "execute_result"
    }
   ],
   "source": [
    "# declarando os dicionários\n",
    "jan = {10: [120.00, 1.50, 'Ganhou'], 15: [88.00, 2.00, 'Ganhou'], 18: [55.70, 1.90, 'Perdeu'], 23: [175.00, 1.70, 'Ganhou'] }\n",
    "fev = {5: [20.00, 1.44, 'Perdeu'], 8: [75.80, 2.30, 'Ganhou'], 15: [55.70, 1.90, 'Perdeu'], 25: [135.00, 1.70, 'Perdeu'] }\n",
    "mar = {11: [77.00, 1.20, 'Ganhou'], 16: [100.00, 2.00, 'Ganhou'], 26: [65.50, 1.90, 'Ganhou'], 30: [115.00, 1.70, 'Ganhou'] }\n",
    "abr = {9: [97.00, 1.90, 'Ganhou'], 13: [110.00, 2.00, 'Perdeu'], 19: [70.70, 1.90, 'Ganhou'], 21: [160.00, 1.80, 'Perdeu'] }\n",
    "mai = {12: [100.00, 2.10, 'Ganhou'], 17: [50.00, 1.35, 'Ganhou'], 25: [90.70, 1.75, 'Perdeu'], 27: [25.00, 1.80, 'Perdeu'] }\n",
    "jun = {2: [120.00, 1.50, 'Perdeu'], 13: [90.00, 1.90, 'Ganhou'], 15: [80.00, 1.80, 'Perdeu'], 17: [100.00, 1.70, 'Ganhou'] }\n",
    "\n",
    "meses_dict = {}\n",
    "lista_dict = [jan, fev, mar, abr, mai, jun]\n",
    "\n",
    "for i in lista_dict:\n",
    "    meses_dict.update(i)\n",
    "    \n",
    "meses_dict"
   ]
  },
  {
   "cell_type": "markdown",
   "metadata": {
    "solution2": "hidden",
    "solution2_first": true
   },
   "source": [
    "3 - Quatro apostadores colocaram suas apostas em um dicionário.\n",
    "Faça um programa que calcule a média dos valores apostados e a média das odds.\n",
    "\n",
    "apostador1 = {\n",
    "    'nome': 'Apostador1',\n",
    "    'valor_apostas': [80.00, 100.00, 70.00, 60.00],\n",
    "    'valor_odds': [1.50, 2.10, 1.80, 1.65]    }\n",
    "\n",
    "apostador2 = {\n",
    "    'nome': 'Apostador2',\n",
    "    'valor_apostas': [66.00, 96.00, 85.00, 50.00],\n",
    "    'valor_odds': [1.60, 2.50, 1.90, 1.75]    }\n",
    "\n",
    "apostador3 = {\n",
    "    'nome': 'Apostador3',\n",
    "    'valor_apostas': [110.00, 100.00, 99.00, 40.00],\n",
    "    'valor_odds': [1.90, 1.30, 1.90, 1.95]    }\n",
    "\n",
    "apostador4 = {\n",
    "    'nome': 'Apostador4',\n",
    "    'valor_apostas': [90.00, 150.00, 200.00, 50.00],\n",
    "    'valor_odds': [1.90, 2.50, 1.70, 1.55]    }\n",
    "\n",
    "\n"
   ]
  },
  {
   "cell_type": "code",
   "execution_count": 4,
   "metadata": {
    "solution2": "hidden"
   },
   "outputs": [
    {
     "name": "stdout",
     "output_type": "stream",
     "text": [
      "A média das apostas do Apostador 1 foi de 77.5\n",
      "A média das odds do Apostador 1 foi de 1.76\n",
      "=#=#=#=#=#=#=#=#=#=#=#=#=#=#=#=#=#=#=#=#=#=#=#=#=#=#=#=#=#=#\n",
      "A média das apostas do Apostador 2 foi de 74.25\n",
      "A média das odds do Apostador 2 foi de 1.94\n",
      "=#=#=#=#=#=#=#=#=#=#=#=#=#=#=#=#=#=#=#=#=#=#=#=#=#=#=#=#=#=#\n",
      "A média das apostas do Apostador 3 foi de 87.25\n",
      "A média das odds do Apostador 3 foi de 1.76\n",
      "=#=#=#=#=#=#=#=#=#=#=#=#=#=#=#=#=#=#=#=#=#=#=#=#=#=#=#=#=#=#\n",
      "A média das apostas do Apostador 4 foi de 122.5\n",
      "A média das odds do Apostador 4 foi de 1.91\n",
      "=#=#=#=#=#=#=#=#=#=#=#=#=#=#=#=#=#=#=#=#=#=#=#=#=#=#=#=#=#=#\n"
     ]
    }
   ],
   "source": [
    "# criando os 4 dicionários\n",
    "apostador1 = { 'nome': 'Apostador 1', 'valor_apostas': [80.00, 100.00, 70.00, 60.00], 'valor_odds': [1.50, 2.10, 1.80, 1.65] }\n",
    "apostador2 = { 'nome': 'Apostador 2', 'valor_apostas': [66.00, 96.00, 85.00, 50.00], 'valor_odds': [1.60, 2.50, 1.90, 1.75] }\n",
    "apostador3 = { 'nome': 'Apostador 3', 'valor_apostas': [110.00, 100.00, 99.00, 40.00], 'valor_odds': [1.90, 1.30, 1.90, 1.95] }\n",
    "apostador4 = { 'nome': 'Apostador 4', 'valor_apostas': [90.00, 150.00, 200.00, 50.00], 'valor_odds': [1.90, 2.50, 1.70, 1.55] }\n",
    "\n",
    "lista_dict = [apostador1, apostador2, apostador3, apostador4]\n",
    "for i in lista_dict:\n",
    "    media_vlr_aposta = round(sum(i['valor_apostas']) / len(i['valor_apostas']),2)\n",
    "    media_vlr_odds   = round(sum(i['valor_odds']) / len(i['valor_odds']),2)\n",
    "    \n",
    "    i['media_apostas'] = media_vlr_aposta\n",
    "    i['media_odds'] = media_vlr_odds\n",
    "    \n",
    "for i in lista_dict:\n",
    "    print(f\"A média das apostas do {i['nome']} foi de {i['media_apostas']}\")\n",
    "    print(f\"A média das odds do {i['nome']} foi de {i['media_odds']}\")\n",
    "    print('=#' * 30)"
   ]
  },
  {
   "cell_type": "markdown",
   "metadata": {
    "solution2": "hidden",
    "solution2_first": true
   },
   "source": [
    "4 - Crie uma função que imprima a sequência de números pares entre 1 e 20 (a função não recebe parâmetro)\n",
    "Depois faça uma chamada à função para listar os números.\n",
    " "
   ]
  },
  {
   "cell_type": "code",
   "execution_count": 5,
   "metadata": {
    "solution2": "hidden"
   },
   "outputs": [
    {
     "name": "stdout",
     "output_type": "stream",
     "text": [
      "2\n",
      "4\n",
      "6\n",
      "8\n",
      "10\n",
      "12\n",
      "14\n",
      "16\n",
      "18\n",
      "20\n"
     ]
    }
   ],
   "source": [
    "def listaPar():\n",
    "    for i in range(2, 21, 2): \n",
    "        print(i)\n",
    "        \n",
    "listaPar()   "
   ]
  },
  {
   "cell_type": "markdown",
   "metadata": {
    "solution2": "hidden",
    "solution2_first": true
   },
   "source": [
    "5 - Crie uma função que receba uma string como argumento e retorne a mesma string em letras maiúsculas.\n",
    "Faça uma chamada à função, passando como parâmetro uma string"
   ]
  },
  {
   "cell_type": "code",
   "execution_count": 6,
   "metadata": {
    "solution2": "hidden"
   },
   "outputs": [
    {
     "name": "stdout",
     "output_type": "stream",
     "text": [
      "SOU UM APOSTADOR CONSISTENTE\n"
     ]
    }
   ],
   "source": [
    "def listaString(texto):\n",
    "    print(texto.upper())\n",
    "    return\n",
    "\n",
    "listaString('Sou um apostador consistente')"
   ]
  },
  {
   "cell_type": "markdown",
   "metadata": {
    "solution2": "hidden",
    "solution2_first": true
   },
   "source": [
    "6 - O apostador 1 armazenou seus valores apostados em uma lista.\n",
    "Crie uma função que calcule a média dos valores apostados. Exiba para o usuário esses valores.\n",
    "\n",
    "apostas = [15.00, 25.50, 78.90, 99.00, 120.00, 77.80, 49.50, 77.60]"
   ]
  },
  {
   "cell_type": "code",
   "execution_count": 7,
   "metadata": {
    "solution2": "hidden"
   },
   "outputs": [
    {
     "name": "stdout",
     "output_type": "stream",
     "text": [
      "O apostador 1 apostou em média 67.91\n"
     ]
    }
   ],
   "source": [
    "def mediaaposta(apostas):\n",
    "    return round(sum(apostas)/len(apostas),2)\n",
    "\n",
    "apostas = [15.00, 25.50, 78.90, 99.00, 120.00, 77.80, 49.50, 77.60]\n",
    "ap = mediaaposta(apostas)\n",
    "\n",
    "print(f'O apostador 1 apostou em média {ap}')"
   ]
  },
  {
   "cell_type": "markdown",
   "metadata": {
    "solution2": "hidden",
    "solution2_first": true
   },
   "source": [
    "7 - Crie uma função anônima e atribua seu retorno a uma variável chamada soma. A expressão vai receber 2 números como parâmetro e retornar a soma deles\n"
   ]
  },
  {
   "cell_type": "code",
   "execution_count": 8,
   "metadata": {
    "solution2": "hidden"
   },
   "outputs": [
    {
     "name": "stdout",
     "output_type": "stream",
     "text": [
      "A soma é :  450\n"
     ]
    }
   ],
   "source": [
    "# função anônima\n",
    "soma = lambda arg1, arg2: arg1 + arg2\n",
    "print (\"A soma é : \", soma( 100, 350 ))"
   ]
  },
  {
   "cell_type": "code",
   "execution_count": null,
   "metadata": {},
   "outputs": [],
   "source": []
  }
 ],
 "metadata": {
  "hide_input": false,
  "kernelspec": {
   "display_name": "Python 3",
   "language": "python",
   "name": "python3"
  },
  "language_info": {
   "codemirror_mode": {
    "name": "ipython",
    "version": 3
   },
   "file_extension": ".py",
   "mimetype": "text/x-python",
   "name": "python",
   "nbconvert_exporter": "python",
   "pygments_lexer": "ipython3",
   "version": "3.8.3"
  },
  "toc": {
   "base_numbering": 1,
   "nav_menu": {},
   "number_sections": true,
   "sideBar": true,
   "skip_h1_title": false,
   "title_cell": "Table of Contents",
   "title_sidebar": "Contents",
   "toc_cell": false,
   "toc_position": {},
   "toc_section_display": true,
   "toc_window_display": false
  },
  "varInspector": {
   "cols": {
    "lenName": 16,
    "lenType": 16,
    "lenVar": 40
   },
   "kernels_config": {
    "python": {
     "delete_cmd_postfix": "",
     "delete_cmd_prefix": "del ",
     "library": "var_list.py",
     "varRefreshCmd": "print(var_dic_list())"
    },
    "r": {
     "delete_cmd_postfix": ") ",
     "delete_cmd_prefix": "rm(",
     "library": "var_list.r",
     "varRefreshCmd": "cat(var_dic_list()) "
    }
   },
   "types_to_exclude": [
    "module",
    "function",
    "builtin_function_or_method",
    "instance",
    "_Feature"
   ],
   "window_display": false
  }
 },
 "nbformat": 4,
 "nbformat_minor": 4
}
