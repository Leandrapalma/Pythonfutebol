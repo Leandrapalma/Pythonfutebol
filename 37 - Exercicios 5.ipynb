{
 "cells": [
  {
   "cell_type": "markdown",
   "metadata": {},
   "source": [
    "# Exercícios 5"
   ]
  },
  {
   "cell_type": "markdown",
   "metadata": {
    "solution2": "hidden",
    "solution2_first": true
   },
   "source": [
    "1 - Use o arquivo disponibilizado (bundesliga.csv) para download e calcule a média gols, o desvio padrão e o coeficiente de variação do mandante e do vistante.\n",
    "\n",
    "Vamos calcular:\n",
    "    - home_team_goal_count - Gols do time mandante\n",
    "    - away_team_goal_count - Gols do time visitante"
   ]
  },
  {
   "cell_type": "code",
   "execution_count": 1,
   "metadata": {
    "solution2": "hidden"
   },
   "outputs": [
    {
     "name": "stdout",
     "output_type": "stream",
     "text": [
      "Média de gols do mandante: 1.6764705882352942\n",
      "Média de gols do visitante: 1.3562091503267975\n",
      "Desvio Padrão de gols do mandante: 1.3966829418718187\n",
      "Desvio Padrão de gols do visitante: 1.1653089404121646\n",
      "Coeficiente de Variação de gols do mandante: 0.8331091232217867\n",
      "Coeficiente de Variação de gols do visitante: 0.859239845219572\n"
     ]
    }
   ],
   "source": [
    "import csv\n",
    "import statistics as s\n",
    "\n",
    "lst_gol_mandante = []\n",
    "lst_gol_visitante = []\n",
    "\n",
    "# abrir o arquivo para leitura\n",
    "with open('arquivos/bundesliga.csv', 'r', encoding='utf-8') as file:\n",
    "    leitor = csv.DictReader(file, delimiter=',')\n",
    "    for i in leitor:\n",
    "        i['home_team_goal_count'] = int(i['home_team_goal_count'])\n",
    "        i['away_team_goal_count'] = int(i['away_team_goal_count'])\n",
    "        lst_gol_mandante.append(i['home_team_goal_count'])\n",
    "        lst_gol_visitante.append(i['away_team_goal_count'])\n",
    "home_goal_mean = s.mean(lst_gol_mandante)\n",
    "away_goal_mean = s.mean(lst_gol_visitante)\n",
    "home_goal_std = s.stdev(lst_gol_mandante)\n",
    "away_goal_std = s.stdev(lst_gol_visitante)\n",
    "home_goal_cv = home_goal_std / home_goal_mean\n",
    "away_goal_cv = away_goal_std / away_goal_mean \n",
    "\n",
    "print(f'Média de gols do mandante: {home_goal_mean}')\n",
    "print(f'Média de gols do visitante: {away_goal_mean}')\n",
    "print(f'Desvio Padrão de gols do mandante: {home_goal_std}')\n",
    "print(f'Desvio Padrão de gols do visitante: {away_goal_std}')\n",
    "print(f'Coeficiente de Variação de gols do mandante: {home_goal_cv}')\n",
    "print(f'Coeficiente de Variação de gols do visitante: {away_goal_cv}')\n"
   ]
  },
  {
   "cell_type": "markdown",
   "metadata": {
    "solution2": "hidden",
    "solution2_first": true
   },
   "source": [
    "2 - Faça que cada elemento da lista1 seja elevado ao elemento da lista2\n",
    "\n",
    "- lista1 = [2, 3, 4]\n",
    "- lista2 = [10, 11, 12]"
   ]
  },
  {
   "cell_type": "code",
   "execution_count": 2,
   "metadata": {
    "solution2": "hidden"
   },
   "outputs": [
    {
     "data": {
      "text/plain": [
       "[1024, 177147, 16777216]"
      ]
     },
     "execution_count": 2,
     "metadata": {},
     "output_type": "execute_result"
    }
   ],
   "source": [
    "lista1 = [2, 3, 4]\n",
    "lista2 = [10, 11, 12]\n",
    "list(map(pow, lista1, lista2))"
   ]
  },
  {
   "cell_type": "markdown",
   "metadata": {
    "solution2": "hidden",
    "solution2_first": true
   },
   "source": [
    "3 - Considerando o range de valores abaixo, use a função filter() para retornar apenas os valores positivos.\n",
    "- range(-10, 10)\n"
   ]
  },
  {
   "cell_type": "code",
   "execution_count": 5,
   "metadata": {
    "solution2": "hidden"
   },
   "outputs": [
    {
     "data": {
      "text/plain": [
       "[1, 2, 3, 4, 5, 6, 7, 8, 9]"
      ]
     },
     "execution_count": 5,
     "metadata": {},
     "output_type": "execute_result"
    }
   ],
   "source": [
    "range(-10, 10)\n",
    "list(filter((lambda x: x > 0), range(-10,10)))"
   ]
  },
  {
   "cell_type": "markdown",
   "metadata": {
    "solution2": "hidden",
    "solution2_first": true
   },
   "source": [
    "4 - Retorne apenas os elementos cujo índice for maior que 3.\n",
    "- lista = ['a', 'b', 'c', 'd', 'e', 'f', 'g', 'h']\n"
   ]
  },
  {
   "cell_type": "code",
   "execution_count": 6,
   "metadata": {
    "solution2": "hidden"
   },
   "outputs": [
    {
     "name": "stdout",
     "output_type": "stream",
     "text": [
      "e\n",
      "f\n",
      "g\n",
      "h\n"
     ]
    }
   ],
   "source": [
    "lista = ['a', 'b', 'c', 'd', 'e', 'f', 'g', 'h']\n",
    "for indice, valor in enumerate(lista):\n",
    "    if indice <= 3:\n",
    "        continue\n",
    "    else:\n",
    "        print (valor)"
   ]
  },
  {
   "cell_type": "markdown",
   "metadata": {
    "solution2": "hidden",
    "solution2_first": true
   },
   "source": [
    "5 - Faça uma função que divida dois números. Caso ocorra divisão por zero exiba uma mensagem informando."
   ]
  },
  {
   "cell_type": "code",
   "execution_count": 8,
   "metadata": {
    "solution2": "hidden"
   },
   "outputs": [
    {
     "name": "stdout",
     "output_type": "stream",
     "text": [
      "Entre com o primeiro número10\n",
      "Entre com o segundo número0\n",
      "Você não pode efetuar divisão por zero\n"
     ]
    }
   ],
   "source": [
    "def divisao(a,b):\n",
    "    try:\n",
    "        div = a / b\n",
    "    except ZeroDivisionError:\n",
    "        print('Você não pode efetuar divisão por zero')\n",
    "    else:\n",
    "        print(f'A divisão de {a} por {b} é {div}')\n",
    "\n",
    "numero1 = float(input('Entre com o primeiro número'))\n",
    "numero2 = float(input('Entre com o segundo número'))\n",
    "\n",
    "divisao(numero1, numero2)"
   ]
  },
  {
   "cell_type": "markdown",
   "metadata": {
    "solution2": "hidden",
    "solution2_first": true
   },
   "source": [
    "6 - Leia o arquivo (resultado1.csv) e faça o que se pede:\n",
    "    Se todas as apostas fossem no over 1.5 FT:\n",
    "    \n",
    "    - Calcule o lucro de cada aposta\n",
    "    - Salve as informações em um novo arquivo chamado resultado_final"
   ]
  },
  {
   "cell_type": "code",
   "execution_count": 9,
   "metadata": {
    "solution2": "hidden"
   },
   "outputs": [],
   "source": [
    "import csv\n",
    "\n",
    "lista_home = []\n",
    "lista_away = []\n",
    "lista_total_gols = []\n",
    "lista_valor_apostado = []\n",
    "lista_odds = []\n",
    "lista_lucro = []\n",
    "\n",
    "with open('arquivos/resultado1.csv', 'r') as file:\n",
    "    leitor = csv.DictReader(file, delimiter=',')\n",
    "    \n",
    "    for linha in leitor:\n",
    "        linha['total_goal_count'] = int(linha['total_goal_count'])\n",
    "        linha['valor_apostado'] = float(linha['valor_apostado'])\n",
    "        linha['odds_ft_over15'] = float(linha['odds_ft_over15'])\n",
    "        \n",
    "        lista_home.append(linha['home_team_name'])\n",
    "        lista_away.append(linha['away_team_name']) \n",
    "        lista_total_gols.append(linha['total_goal_count'])\n",
    "        lista_odds.append(linha['odds_ft_over15'])\n",
    "        lista_valor_apostado.append(linha['valor_apostado'])\n",
    "              \n",
    "        if linha['total_goal_count'] > 1:\n",
    "            lista_lucro.append(round(linha['valor_apostado'] * (linha['odds_ft_over15'] - 1),2))\n",
    "        else:\n",
    "            lista_lucro.append(-linha['valor_apostado'])\n",
    "    \n",
    "final = list(zip(lista_home, lista_away, lista_total_gols, lista_odds, lista_valor_apostado, lista_lucro))   \n",
    "header = ['home_team_name', 'away_team_name', 'total_goal_count', 'odds_ft_over15', 'valor_apostado', 'Lucro/Prejuizo']\n",
    "with open('arquivos/resultado_final.csv', 'w', newline='') as file:\n",
    "    gravar = csv.writer(file, delimiter=',')\n",
    "    gravar.writerow(header)\n",
    "    for i in final:\n",
    "        gravar.writerow(i)\n"
   ]
  },
  {
   "cell_type": "markdown",
   "metadata": {
    "solution2": "hidden",
    "solution2_first": true
   },
   "source": [
    "7 - Leia o arquivo criado no exercício 6 e calcule:\n",
    "\n",
    "    - A média de odds apostadas\n",
    "    - A média dos valores apostados\n",
    "    - O apostador teve lucro ou prejuízo. Informe o valor"
   ]
  },
  {
   "cell_type": "code",
   "execution_count": 10,
   "metadata": {
    "solution2": "hidden"
   },
   "outputs": [
    {
     "name": "stdout",
     "output_type": "stream",
     "text": [
      "Média de odds foi: 1.204\n",
      "A media de valor apostado foi de R$: 90.0\n",
      "O apostador teve Lucro/Prejuizo de R$: -95.0\n"
     ]
    }
   ],
   "source": [
    "import csv\n",
    "import statistics as s\n",
    "\n",
    "lst_media_odds = []\n",
    "lst_media_total_apostado = []\n",
    "lst_valor_lucro = []\n",
    "\n",
    "# abrir o arquivo para leitura\n",
    "with open('arquivos/resultado_final.csv', 'r', encoding='utf-8') as file:\n",
    "    leitor = csv.DictReader(file, delimiter=',')\n",
    "    for i in leitor:\n",
    "        i['valor_apostado'] = float(i['valor_apostado'])\n",
    "        i['odds_ft_over15'] = float(i['odds_ft_over15'])\n",
    "        i['Lucro/Prejuizo'] = float(i['Lucro/Prejuizo'])\n",
    "        \n",
    "        lst_media_odds.append(i['odds_ft_over15'])\n",
    "        lst_media_total_apostado.append(i['valor_apostado'])\n",
    "        lst_valor_lucro.append(i['Lucro/Prejuizo'])\n",
    "\n",
    "odds_mean = s.mean(lst_media_odds)\n",
    "valor_apostado_mean = s.mean(lst_media_total_apostado)\n",
    "total_apostado = sum(lst_valor_lucro)\n",
    "\n",
    "print(f'Média de odds foi: {odds_mean}')\n",
    "print(f'A media de valor apostado foi de R$: {valor_apostado_mean}')\n",
    "print(f'O apostador teve Lucro/Prejuizo de R$: {total_apostado}')\n"
   ]
  },
  {
   "cell_type": "code",
   "execution_count": null,
   "metadata": {},
   "outputs": [],
   "source": []
  }
 ],
 "metadata": {
  "hide_input": false,
  "kernelspec": {
   "display_name": "Python 3",
   "language": "python",
   "name": "python3"
  },
  "language_info": {
   "codemirror_mode": {
    "name": "ipython",
    "version": 3
   },
   "file_extension": ".py",
   "mimetype": "text/x-python",
   "name": "python",
   "nbconvert_exporter": "python",
   "pygments_lexer": "ipython3",
   "version": "3.8.3"
  },
  "toc": {
   "base_numbering": 1,
   "nav_menu": {},
   "number_sections": true,
   "sideBar": true,
   "skip_h1_title": false,
   "title_cell": "Table of Contents",
   "title_sidebar": "Contents",
   "toc_cell": false,
   "toc_position": {},
   "toc_section_display": true,
   "toc_window_display": false
  },
  "varInspector": {
   "cols": {
    "lenName": 16,
    "lenType": 16,
    "lenVar": 40
   },
   "kernels_config": {
    "python": {
     "delete_cmd_postfix": "",
     "delete_cmd_prefix": "del ",
     "library": "var_list.py",
     "varRefreshCmd": "print(var_dic_list())"
    },
    "r": {
     "delete_cmd_postfix": ") ",
     "delete_cmd_prefix": "rm(",
     "library": "var_list.r",
     "varRefreshCmd": "cat(var_dic_list()) "
    }
   },
   "types_to_exclude": [
    "module",
    "function",
    "builtin_function_or_method",
    "instance",
    "_Feature"
   ],
   "window_display": false
  }
 },
 "nbformat": 4,
 "nbformat_minor": 4
}
