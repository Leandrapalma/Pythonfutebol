{
 "cells": [
  {
   "cell_type": "markdown",
   "metadata": {},
   "source": [
    "# Soma\n"
   ]
  },
  {
   "cell_type": "code",
   "execution_count": 3,
   "metadata": {},
   "outputs": [
    {
     "name": "stdout",
     "output_type": "stream",
     "text": [
      "Digite o primeiro número: 15\n",
      "Digite o segundo número: 5\n",
      "A soma é:  20\n"
     ]
    }
   ],
   "source": [
    "# soma de dois números inteiros\n",
    "numero1 = int(input('Digite o primeiro número: '))\n",
    "numero2 = int(input('Digite o segundo número: '))\n",
    "\n",
    "soma = numero1 + numero2\n",
    "print('A soma é: ', soma)"
   ]
  },
  {
   "cell_type": "markdown",
   "metadata": {},
   "source": [
    "# Subtração"
   ]
  },
  {
   "cell_type": "code",
   "execution_count": 4,
   "metadata": {},
   "outputs": [
    {
     "name": "stdout",
     "output_type": "stream",
     "text": [
      "Digite o primeiro número: 10\n",
      "Digite o segundo número: 3\n",
      "A subtração é:  7\n"
     ]
    }
   ],
   "source": [
    "# subtração de dois números inteiros\n",
    "numero3 = int(input('Digite o primeiro número: '))\n",
    "numero4 = int(input('Digite o segundo número: '))\n",
    "\n",
    "subtracao = numero3 - numero4\n",
    "print('A subtração é: ', subtracao)"
   ]
  },
  {
   "cell_type": "markdown",
   "metadata": {},
   "source": [
    "# Multiplicacão"
   ]
  },
  {
   "cell_type": "code",
   "execution_count": 5,
   "metadata": {},
   "outputs": [
    {
     "name": "stdout",
     "output_type": "stream",
     "text": [
      "Digite o valor apostado:100\n",
      "Digite o valor da odd: 1.80\n",
      "O valor apostado foi:  100.0\n",
      "A odd apostada foi:  1.8\n",
      "O lucro será:  80.0\n"
     ]
    }
   ],
   "source": [
    "valor_apostado = float(input('Digite o valor apostado:'))\n",
    "valor_odd = float(input('Digite o valor da odd: '))\n",
    "\n",
    "mult = valor_apostado * valor_odd\n",
    "\n",
    "print('O valor apostado foi: ', round(valor_apostado,2))\n",
    "print('A odd apostada foi: ', round(valor_odd,2))\n",
    "\n",
    "print('O lucro será: ', round(mult - valor_apostado,2))"
   ]
  },
  {
   "cell_type": "markdown",
   "metadata": {},
   "source": [
    "# Divisão"
   ]
  },
  {
   "cell_type": "code",
   "execution_count": 6,
   "metadata": {},
   "outputs": [
    {
     "name": "stdout",
     "output_type": "stream",
     "text": [
      "Digite a odd do evento: 2.20\n",
      "A probabilidade do evento será:  45.45\n"
     ]
    }
   ],
   "source": [
    "odd = float(input('Digite a odd do evento: '))\n",
    "probab = (1 / odd) * 100\n",
    "\n",
    "print('A probabilidade do evento será: ', round(probab,2))"
   ]
  },
  {
   "cell_type": "markdown",
   "metadata": {},
   "source": [
    "# Divisão Inteira"
   ]
  },
  {
   "cell_type": "code",
   "execution_count": 7,
   "metadata": {},
   "outputs": [
    {
     "name": "stdout",
     "output_type": "stream",
     "text": [
      "Digite o primeiro número: 15\n",
      "Digite o segundo número: 2\n",
      "A divisão inteira é:  7\n"
     ]
    }
   ],
   "source": [
    "# divisão inteira\n",
    "numero5 = int(input('Digite o primeiro número: '))\n",
    "numero6 = int(input('Digite o segundo número: '))\n",
    "\n",
    "div_int = numero5 // numero6\n",
    "print('A divisão inteira é: ', div_int)"
   ]
  },
  {
   "cell_type": "markdown",
   "metadata": {},
   "source": [
    "# Resto da divisão (Módulo)"
   ]
  },
  {
   "cell_type": "code",
   "execution_count": 8,
   "metadata": {},
   "outputs": [
    {
     "name": "stdout",
     "output_type": "stream",
     "text": [
      "Digite o primeiro número: 15\n",
      "Digite o segundo número: 7\n",
      "O resto da divisão é:  1\n"
     ]
    }
   ],
   "source": [
    "# resto da divisão\n",
    "numero7 = int(input('Digite o primeiro número: '))\n",
    "numero8 = int(input('Digite o segundo número: '))\n",
    "\n",
    "resto = numero7 % numero8\n",
    "print('O resto da divisão é: ', resto)"
   ]
  },
  {
   "cell_type": "markdown",
   "metadata": {},
   "source": [
    "# Exponenciação"
   ]
  },
  {
   "cell_type": "code",
   "execution_count": 9,
   "metadata": {},
   "outputs": [
    {
     "name": "stdout",
     "output_type": "stream",
     "text": [
      "Digite o primeiro número: 3\n",
      "Digite seu expoente: 2\n",
      "O resultado da exponenciação é:  9\n"
     ]
    }
   ],
   "source": [
    "# exponenciação\n",
    "numero7 = int(input('Digite o primeiro número: '))\n",
    "numero8 = int(input('Digite seu expoente: '))\n",
    "\n",
    "exponenciacao = numero7 ** numero8\n",
    "print('O resultado da exponenciação é: ', exponenciacao)"
   ]
  },
  {
   "cell_type": "code",
   "execution_count": null,
   "metadata": {},
   "outputs": [],
   "source": []
  }
 ],
 "metadata": {
  "hide_input": false,
  "kernelspec": {
   "display_name": "Python 3",
   "language": "python",
   "name": "python3"
  },
  "language_info": {
   "codemirror_mode": {
    "name": "ipython",
    "version": 3
   },
   "file_extension": ".py",
   "mimetype": "text/x-python",
   "name": "python",
   "nbconvert_exporter": "python",
   "pygments_lexer": "ipython3",
   "version": "3.8.3"
  },
  "toc": {
   "base_numbering": 1,
   "nav_menu": {},
   "number_sections": true,
   "sideBar": true,
   "skip_h1_title": false,
   "title_cell": "Table of Contents",
   "title_sidebar": "Contents",
   "toc_cell": false,
   "toc_position": {},
   "toc_section_display": true,
   "toc_window_display": false
  },
  "varInspector": {
   "cols": {
    "lenName": 16,
    "lenType": 16,
    "lenVar": 40
   },
   "kernels_config": {
    "python": {
     "delete_cmd_postfix": "",
     "delete_cmd_prefix": "del ",
     "library": "var_list.py",
     "varRefreshCmd": "print(var_dic_list())"
    },
    "r": {
     "delete_cmd_postfix": ") ",
     "delete_cmd_prefix": "rm(",
     "library": "var_list.r",
     "varRefreshCmd": "cat(var_dic_list()) "
    }
   },
   "types_to_exclude": [
    "module",
    "function",
    "builtin_function_or_method",
    "instance",
    "_Feature"
   ],
   "window_display": false
  }
 },
 "nbformat": 4,
 "nbformat_minor": 4
}
