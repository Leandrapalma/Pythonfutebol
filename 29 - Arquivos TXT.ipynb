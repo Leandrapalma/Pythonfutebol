{
 "cells": [
  {
   "cell_type": "markdown",
   "metadata": {},
   "source": [
    "# Manipulando arquivos TXT"
   ]
  },
  {
   "cell_type": "code",
   "execution_count": 1,
   "metadata": {},
   "outputs": [],
   "source": [
    "# criar uma string\n",
    "texto = \"Eu vou aprender a programar em Python.\\n\"\n",
    "texto = texto + \"A programacao em Python vai me ajudar na analise de dados.\\n\"\n",
    "texto = texto + \"Essa e a terceira linha.\\n\"\n",
    "texto = texto + \"Essa e a ultima linha.\\n\""
   ]
  },
  {
   "cell_type": "code",
   "execution_count": 2,
   "metadata": {},
   "outputs": [
    {
     "name": "stdout",
     "output_type": "stream",
     "text": [
      "Eu vou aprender a programar em Python.\n",
      "A programacao em Python vai me ajudar na analise de dados.\n",
      "Essa e a terceira linha.\n",
      "Essa e a ultima linha.\n",
      "\n"
     ]
    }
   ],
   "source": [
    "print(texto)"
   ]
  },
  {
   "cell_type": "code",
   "execution_count": 3,
   "metadata": {},
   "outputs": [],
   "source": [
    "# Importando o módulo os - pacote para manipular o sistema operacional\n",
    "import os"
   ]
  },
  {
   "cell_type": "code",
   "execution_count": 4,
   "metadata": {},
   "outputs": [],
   "source": [
    "# Criando um arquivo - Função Join, do módulo Path, do pacote Os\n",
    "arquivo = open(os.path.join('arquivos/python.txt'),'w')"
   ]
  },
  {
   "cell_type": "code",
   "execution_count": 5,
   "metadata": {},
   "outputs": [],
   "source": [
    "# Gravando os dados no arquivo - Split separa os texto em espaços em branco\n",
    "for palavra in texto.split():\n",
    "    arquivo.write(palavra+' ')"
   ]
  },
  {
   "cell_type": "code",
   "execution_count": 6,
   "metadata": {},
   "outputs": [],
   "source": [
    "# Fechando o arquivo\n",
    "arquivo.close()"
   ]
  },
  {
   "cell_type": "code",
   "execution_count": 7,
   "metadata": {},
   "outputs": [
    {
     "name": "stdout",
     "output_type": "stream",
     "text": [
      "Eu vou aprender a programar em Python. A programacao em Python vai me ajudar na analise de dados. Essa e a terceira linha. Essa e a ultima linha. \n"
     ]
    }
   ],
   "source": [
    "# Lendo o arquivo\n",
    "arquivo = open('arquivos/python.txt','r')\n",
    "conteudo = arquivo.read()\n",
    "arquivo.close()\n",
    "\n",
    "print(conteudo)"
   ]
  },
  {
   "cell_type": "markdown",
   "metadata": {},
   "source": [
    "# Expressão with"
   ]
  },
  {
   "cell_type": "code",
   "execution_count": 9,
   "metadata": {},
   "outputs": [],
   "source": [
    "with open('arquivos/python.txt','r') as arquivo:\n",
    "    conteudo = arquivo.read()"
   ]
  },
  {
   "cell_type": "code",
   "execution_count": 10,
   "metadata": {},
   "outputs": [
    {
     "name": "stdout",
     "output_type": "stream",
     "text": [
      "146\n"
     ]
    }
   ],
   "source": [
    "print(len(conteudo))"
   ]
  },
  {
   "cell_type": "code",
   "execution_count": 11,
   "metadata": {},
   "outputs": [
    {
     "name": "stdout",
     "output_type": "stream",
     "text": [
      "Eu vou aprender a programar em Python. A programacao em Python vai me ajudar na analise de dados. Essa e a terceira linha. Essa e a ultima linha. \n"
     ]
    }
   ],
   "source": [
    "print(conteudo)"
   ]
  },
  {
   "cell_type": "code",
   "execution_count": 14,
   "metadata": {},
   "outputs": [
    {
     "name": "stdout",
     "output_type": "stream",
     "text": [
      "Eu vou aprender a programar em Python. A programacao em Python vai me ajudar na analise de dados. Es\n"
     ]
    }
   ],
   "source": [
    "# leitura por caracter\n",
    "with open('arquivos/python.txt','r') as arquivo:\n",
    "    conteudo = arquivo.read(100)\n",
    "    print(conteudo)"
   ]
  },
  {
   "cell_type": "code",
   "execution_count": 18,
   "metadata": {},
   "outputs": [
    {
     "name": "stdout",
     "output_type": "stream",
     "text": [
      "Eu vou apr***ender a pr***ogramar em*** Python. A*** programac***ao em Pyth***on vai me ***ajudar na ***analise de*** dados. Es***sa e a ter***ceira linh***a. Essa e ***a ultima l***inha. ***"
     ]
    }
   ],
   "source": [
    "# lendo de 10 em 10\n",
    "with open('arquivos/python.txt','r') as arquivo:\n",
    "    qtde = 10\n",
    "    conteudo = arquivo.read(qtde)\n",
    "    while len(conteudo) > 0:\n",
    "        print(conteudo, end='')\n",
    "        conteudo = arquivo.read(qtde)"
   ]
  },
  {
   "cell_type": "code",
   "execution_count": null,
   "metadata": {},
   "outputs": [],
   "source": []
  }
 ],
 "metadata": {
  "hide_input": false,
  "kernelspec": {
   "display_name": "Python 3",
   "language": "python",
   "name": "python3"
  },
  "language_info": {
   "codemirror_mode": {
    "name": "ipython",
    "version": 3
   },
   "file_extension": ".py",
   "mimetype": "text/x-python",
   "name": "python",
   "nbconvert_exporter": "python",
   "pygments_lexer": "ipython3",
   "version": "3.8.3"
  },
  "toc": {
   "base_numbering": 1,
   "nav_menu": {},
   "number_sections": true,
   "sideBar": true,
   "skip_h1_title": false,
   "title_cell": "Table of Contents",
   "title_sidebar": "Contents",
   "toc_cell": false,
   "toc_position": {},
   "toc_section_display": true,
   "toc_window_display": false
  },
  "varInspector": {
   "cols": {
    "lenName": 16,
    "lenType": 16,
    "lenVar": 40
   },
   "kernels_config": {
    "python": {
     "delete_cmd_postfix": "",
     "delete_cmd_prefix": "del ",
     "library": "var_list.py",
     "varRefreshCmd": "print(var_dic_list())"
    },
    "r": {
     "delete_cmd_postfix": ") ",
     "delete_cmd_prefix": "rm(",
     "library": "var_list.r",
     "varRefreshCmd": "cat(var_dic_list()) "
    }
   },
   "types_to_exclude": [
    "module",
    "function",
    "builtin_function_or_method",
    "instance",
    "_Feature"
   ],
   "window_display": false
  }
 },
 "nbformat": 4,
 "nbformat_minor": 4
}
