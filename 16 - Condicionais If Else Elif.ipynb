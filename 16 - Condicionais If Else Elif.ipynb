{
 "cells": [
  {
   "cell_type": "markdown",
   "metadata": {},
   "source": [
    "# Condicionais If, else e Elif"
   ]
  },
  {
   "cell_type": "code",
   "execution_count": null,
   "metadata": {},
   "outputs": [],
   "source": [
    "# Condicional If\n",
    "if 5 > 2:\n",
    "    print(\"Sim... 5 é maior que 2!\")"
   ]
  },
  {
   "cell_type": "code",
   "execution_count": null,
   "metadata": {},
   "outputs": [],
   "source": [
    "odd = 1.50\n",
    "nome = 'Ana'\n",
    "\n",
    "# If...Else\n",
    "if odd > 2:\n",
    "    print('Sua odd da aposta é maior que 2')\n",
    "else:\n",
    "    print('Tem certeza que deseja fazer essa aposta?')"
   ]
  },
  {
   "cell_type": "code",
   "execution_count": null,
   "metadata": {},
   "outputs": [],
   "source": [
    "if  5 == 5:\n",
    "    print('Sim, 5 é igual a 5')"
   ]
  },
  {
   "cell_type": "code",
   "execution_count": null,
   "metadata": {},
   "outputs": [],
   "source": [
    "#atenção aos erros de sintaxes\n",
    "if 4 > 3\n",
    "    print(\"Está certo!\")"
   ]
  },
  {
   "cell_type": "code",
   "execution_count": null,
   "metadata": {},
   "outputs": [],
   "source": [
    "# Condicionais aninhados\n",
    "idade = 18\n",
    "if idade > 17:\n",
    "    print(\"Você pode dirigir!\")\n"
   ]
  },
  {
   "cell_type": "code",
   "execution_count": null,
   "metadata": {},
   "outputs": [],
   "source": [
    "if odd > 1.40:\n",
    "    if nome == 'Ana':\n",
    "        print(\"Ana, a odd da aposta é maior que 1.40!\")\n",
    "    else:\n",
    "        print(\"Desculpe, mas você não deveria apostar!\")"
   ]
  },
  {
   "cell_type": "code",
   "execution_count": null,
   "metadata": {},
   "outputs": [],
   "source": [
    "\n",
    "if odd >= 1.40 and nome == 'Ana':\n",
    "    print(\"Ana, a odd da aposta é maior que 1.40!\")"
   ]
  },
  {
   "cell_type": "code",
   "execution_count": null,
   "metadata": {},
   "outputs": [],
   "source": [
    "\n",
    "if (odd >= 1.40) or (nome == 'Ana'):\n",
    "    print(\"Ana, a odd da aposta é maior que 1.40!\")"
   ]
  },
  {
   "cell_type": "code",
   "execution_count": null,
   "metadata": {},
   "outputs": [],
   "source": [
    "# Elif - quando a primeira condição é satisfeita ele não executa as outras\n",
    "odd1 = 1.50\n",
    "odd2 = 3.50\n",
    "\n",
    "if odd == 1.50:\n",
    "    print('Sua odd é 1.50!')\n",
    "elif odd >= 3.00:\n",
    "    print('Sua odd é maior que 3.00!')\n",
    "else:\n",
    "    print('Nenhuma odd selecionada!')"
   ]
  },
  {
   "cell_type": "code",
   "execution_count": null,
   "metadata": {},
   "outputs": [],
   "source": []
  }
 ],
 "metadata": {
  "hide_input": false,
  "kernelspec": {
   "display_name": "Python 3",
   "language": "python",
   "name": "python3"
  },
  "language_info": {
   "codemirror_mode": {
    "name": "ipython",
    "version": 3
   },
   "file_extension": ".py",
   "mimetype": "text/x-python",
   "name": "python",
   "nbconvert_exporter": "python",
   "pygments_lexer": "ipython3",
   "version": "3.8.3"
  },
  "toc": {
   "base_numbering": 1,
   "nav_menu": {},
   "number_sections": true,
   "sideBar": true,
   "skip_h1_title": false,
   "title_cell": "Table of Contents",
   "title_sidebar": "Contents",
   "toc_cell": false,
   "toc_position": {},
   "toc_section_display": true,
   "toc_window_display": false
  },
  "varInspector": {
   "cols": {
    "lenName": 16,
    "lenType": 16,
    "lenVar": 40
   },
   "kernels_config": {
    "python": {
     "delete_cmd_postfix": "",
     "delete_cmd_prefix": "del ",
     "library": "var_list.py",
     "varRefreshCmd": "print(var_dic_list())"
    },
    "r": {
     "delete_cmd_postfix": ") ",
     "delete_cmd_prefix": "rm(",
     "library": "var_list.r",
     "varRefreshCmd": "cat(var_dic_list()) "
    }
   },
   "types_to_exclude": [
    "module",
    "function",
    "builtin_function_or_method",
    "instance",
    "_Feature"
   ],
   "window_display": false
  }
 },
 "nbformat": 4,
 "nbformat_minor": 4
}
