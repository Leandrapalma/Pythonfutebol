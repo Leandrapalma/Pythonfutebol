{
 "cells": [
  {
   "cell_type": "markdown",
   "metadata": {},
   "source": [
    "# Exercícios"
   ]
  },
  {
   "cell_type": "markdown",
   "metadata": {
    "solution2": "hidden",
    "solution2_first": true
   },
   "source": [
    "1 - Escolha dois números e armazene em uma variável.\n",
    "Depois realize todas as operações matemáticas vistas até agora. \n",
    "a - Soma\n",
    "b - Subtração\n",
    "c - Multiplicação\n",
    "d - Divisão\n",
    "e - Resto da divisão\n",
    "f - Divisão inteira\n",
    "g - Exponenciação\n",
    "\n",
    "Exibe os resultados."
   ]
  },
  {
   "cell_type": "code",
   "execution_count": 1,
   "metadata": {
    "solution2": "hidden"
   },
   "outputs": [
    {
     "name": "stdout",
     "output_type": "stream",
     "text": [
      "A soma entre 10 e 5 é 15\n",
      "A subtração entre 10 e 5 é 5\n",
      "A multiplicacao entre 10 e 5 é 50\n",
      "A divisão real entre 10 e 5 é 2.0\n",
      "O resto da divisão entre 10 e 5 é 0\n",
      "A divisão inteira entre 10 e 5 é 2\n",
      "O 10 elevado a 5 é 100000\n"
     ]
    }
   ],
   "source": [
    "numero1 = 10\n",
    "numero2 = 5\n",
    "\n",
    "soma = numero1 + numero2\n",
    "subtracao = numero1 - numero2\n",
    "mult = numero1 * numero2\n",
    "divisao = numero1 / numero2\n",
    "modulo = numero1 % numero2   # resto da divisão\n",
    "div_inteira = numero1 // numero2\n",
    "exponen = numero1 ** numero2\n",
    "\n",
    "print('A soma entre', numero1, 'e', numero2, 'é', soma)\n",
    "print('A subtração entre', numero1, 'e', numero2, 'é', subtracao)\n",
    "print('A multiplicacao entre', numero1, 'e', numero2, 'é', mult)\n",
    "print('A divisão real entre', numero1, 'e', numero2, 'é', divisao)\n",
    "print('O resto da divisão entre', numero1, 'e', numero2, 'é', modulo)\n",
    "print('A divisão inteira entre', numero1, 'e', numero2, 'é', div_inteira)\n",
    "print('O', numero1, 'elevado a', numero2, 'é', exponen)\n"
   ]
  },
  {
   "cell_type": "markdown",
   "metadata": {
    "solution2": "hidden",
    "solution2_first": true
   },
   "source": [
    "2 - Imprima na tela os números de 1 a 10. Use uma lista para armazenar os números."
   ]
  },
  {
   "cell_type": "code",
   "execution_count": 2,
   "metadata": {
    "solution2": "hidden"
   },
   "outputs": [
    {
     "name": "stdout",
     "output_type": "stream",
     "text": [
      "[1, 2, 3, 4, 5, 6, 7, 8, 9, 10]\n"
     ]
    }
   ],
   "source": [
    "lista = [1,2,3,4,5,6,7,8,9,10]\n",
    "print(lista)"
   ]
  },
  {
   "cell_type": "markdown",
   "metadata": {
    "solution2": "hidden",
    "solution2_first": true
   },
   "source": [
    "3 - Crie uma tupla com os seguintes elementos, 1, 2, 2, 3, 4, 4, 4, 5. Imprima o resultado."
   ]
  },
  {
   "cell_type": "code",
   "execution_count": 3,
   "metadata": {
    "solution2": "hidden"
   },
   "outputs": [
    {
     "data": {
      "text/plain": [
       "(1, 2, 2, 3, 4, 4, 4, 5)"
      ]
     },
     "execution_count": 3,
     "metadata": {},
     "output_type": "execute_result"
    }
   ],
   "source": [
    "tupla = (1, 2, 2, 3, 4, 4, 4, 5)\n",
    "tupla"
   ]
  },
  {
   "cell_type": "markdown",
   "metadata": {
    "solution2": "hidden",
    "solution2_first": true
   },
   "source": [
    "4 - Adicione o elemento 5 na lista criada no exercício 2. Imprima o resultado."
   ]
  },
  {
   "cell_type": "code",
   "execution_count": 4,
   "metadata": {
    "solution2": "hidden"
   },
   "outputs": [
    {
     "data": {
      "text/plain": [
       "[1, 2, 3, 4, 5, 6, 7, 8, 9, 10, 5]"
      ]
     },
     "execution_count": 4,
     "metadata": {},
     "output_type": "execute_result"
    }
   ],
   "source": [
    "lista.append(5)\n",
    "lista"
   ]
  },
  {
   "attachments": {
    "image.png": {
     "image/png": "[encoded data removed]"
    }
   },
   "cell_type": "markdown",
   "metadata": {
    "solution2": "hidden",
    "solution2_first": true
   },
   "source": [
    "5 - O valor da aposta realizada por um trader esportivo foi de R$ 100,00. Ele apostou no time da casa. Calcule a probabilidade dele ganhar essa aposta? \n",
    "Confira as odds na tabela abaixo. Lembre-se de imprimir o resultado da probabilidade dele ganhar e o lucro da sua aposta.\n",
    "\n",
    "![image.png](attachment:image.png)"
   ]
  },
  {
   "cell_type": "code",
   "execution_count": 5,
   "metadata": {
    "solution2": "hidden"
   },
   "outputs": [
    {
     "name": "stdout",
     "output_type": "stream",
     "text": [
      "A probabilidade dele ganhar a aposta é: 66.67 %\n",
      "O lucro será de: 50.0\n"
     ]
    }
   ],
   "source": [
    "aposta = 100.00\n",
    "\n",
    "odd_casa = 1.50\n",
    "odd_empate = 2.20\n",
    "odd_visitante = 2.50\n",
    "\n",
    "prob_casa = round((1/odd_casa) * 100, 2)\n",
    "prob_empate = round((1/odd_empate) * 100, 2)\n",
    "prob_visi = round((1/odd_visitante) * 100, 2)\n",
    "\n",
    "valor_final = (odd_casa - 1) * aposta\n",
    "\n",
    "print('A probabilidade dele ganhar a aposta é:', prob_casa, '%')\n",
    "print('O lucro será de:', valor_final)"
   ]
  },
  {
   "attachments": {
    "image.png": {
     "image/png": "[encoded data removed]"
    }
   },
   "cell_type": "markdown",
   "metadata": {
    "solution2": "shown",
    "solution2_first": true
   },
   "source": [
    "6 - Analise a tabela abaixo das apostas de um determinado trader. \n",
    "Responda:\n",
    "    a - Qual o valor total apostado?\n",
    "    b - Ele teve lucro ou prejuizo?\n",
    "    c - Calcule o ROI.\n",
    "Imprima todos os resultados.\n",
    "\n",
    "ROI = (Lucros ou Perdas / Valor Aposta) * 100\n",
    "\n",
    "![image.png](attachment:image.png)"
   ]
  },
  {
   "cell_type": "code",
   "execution_count": 6,
   "metadata": {
    "solution2": "shown"
   },
   "outputs": [
    {
     "name": "stdout",
     "output_type": "stream",
     "text": [
      "O valor total apostado foi: 930\n",
      "O lucro ou prejuizo foi de: -197.5\n",
      "O ROI foi de: -21.24\n"
     ]
    }
   ],
   "source": [
    "valor_apostado = 100 + 150 + 50 + 100 + 200 + 180 +150\n",
    "lucro_prejuizo = 40 - 150 + 12.50 + 70 + 160 - 180 - 150\n",
    "\n",
    "roi = (lucro_prejuizo / valor_apostado) * 100\n",
    "\n",
    "print('O valor total apostado foi:', valor_apostado)\n",
    "print('O lucro ou prejuizo foi de:', lucro_prejuizo)\n",
    "print('O ROI foi de:', round(roi,2))"
   ]
  },
  {
   "cell_type": "code",
   "execution_count": null,
   "metadata": {},
   "outputs": [],
   "source": []
  }
 ],
 "metadata": {
  "hide_input": false,
  "kernelspec": {
   "display_name": "Python 3",
   "language": "python",
   "name": "python3"
  },
  "language_info": {
   "codemirror_mode": {
    "name": "ipython",
    "version": 3
   },
   "file_extension": ".py",
   "mimetype": "text/x-python",
   "name": "python",
   "nbconvert_exporter": "python",
   "pygments_lexer": "ipython3",
   "version": "3.8.3"
  },
  "toc": {
   "base_numbering": 1,
   "nav_menu": {},
   "number_sections": true,
   "sideBar": true,
   "skip_h1_title": false,
   "title_cell": "Table of Contents",
   "title_sidebar": "Contents",
   "toc_cell": false,
   "toc_position": {},
   "toc_section_display": true,
   "toc_window_display": false
  },
  "varInspector": {
   "cols": {
    "lenName": 16,
    "lenType": 16,
    "lenVar": 40
   },
   "kernels_config": {
    "python": {
     "delete_cmd_postfix": "",
     "delete_cmd_prefix": "del ",
     "library": "var_list.py",
     "varRefreshCmd": "print(var_dic_list())"
    },
    "r": {
     "delete_cmd_postfix": ") ",
     "delete_cmd_prefix": "rm(",
     "library": "var_list.r",
     "varRefreshCmd": "cat(var_dic_list()) "
    }
   },
   "types_to_exclude": [
    "module",
    "function",
    "builtin_function_or_method",
    "instance",
    "_Feature"
   ],
   "window_display": false
  }
 },
 "nbformat": 4,
 "nbformat_minor": 4
}
